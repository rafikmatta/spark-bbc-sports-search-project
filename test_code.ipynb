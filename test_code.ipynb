{
 "cells": [
  {
   "cell_type": "code",
   "execution_count": null,
   "metadata": {},
   "outputs": [],
   "source": [
    "import os\n",
    "import math\n",
    "import pymongo\n",
    "from pymongo import MongoClient\n",
    "import json\n",
    "import re, string\n",
    "\n",
    "data = []\n",
    "for filename in os.listdir('bbcsport/rugby'):\n",
    "    if filename.endswith('.txt'):\n",
    "        with open(os.path.join('bbcsport/rugby', filename)) as f:\n",
    "            strings = filename.split(\".\")\n",
    "            name = \"rugby-\" + strings[0]\n",
    "            data_dict = {}\n",
    "            content = f.read()\n",
    "            new_content = ''\n",
    "            for line in content:\n",
    "                new_content = new_content + re.sub('[^\\w\\s-]', '', line)\n",
    "            new_content = re.sub('\\n+','\\n',new_content)\n",
    "            new_content = new_content.replace('\\n',' ')\n",
    "            data_dict[\"filename\"] = name\n",
    "            data_dict[\"content\"] = new_content.lower().strip()\n",
    "            data.append(data_dict)"
   ]
  },
  {
   "cell_type": "code",
   "execution_count": null,
   "metadata": {},
   "outputs": [],
   "source": [
    "data"
   ]
  },
  {
   "cell_type": "code",
   "execution_count": null,
   "metadata": {},
   "outputs": [],
   "source": [
    "client = MongoClient()\n",
    "client = MongoClient('localhost', 27017)\n",
    "db = client.ds8003_final\n",
    "bbc_sports = db.bbc_sports\n",
    "result = bbc_sports.insert_many(data)"
   ]
  },
  {
   "cell_type": "code",
   "execution_count": null,
   "metadata": {},
   "outputs": [],
   "source": []
  },
  {
   "cell_type": "code",
   "execution_count": null,
   "metadata": {},
   "outputs": [],
   "source": [
    "math.log(147/40)"
   ]
  },
  {
   "cell_type": "code",
   "execution_count": null,
   "metadata": {},
   "outputs": [],
   "source": [
    "def tf(term,document):\n",
    "    total_doc_length = len(document)\n",
    "    count_word = 0\n",
    "    for word in document:\n",
    "        if word == term:\n",
    "            count_word +=1\n",
    "    return count_word/total_doc_length\n",
    "\n",
    "def idf(term,documents):\n",
    "    total_docs = len(documents)\n",
    "    total_occurences = 0\n",
    "    for doc in documents:\n",
    "        words = doc.split(\" \")\n",
    "        for word in words:\n",
    "            if word == term:\n",
    "                total_occurences += 1\n",
    "                break\n",
    "    return math.log(total_occurences/total_docs)\n",
    "\n",
    "def build_index(documents):\n",
    "    index = {}\n",
    "    doc_vectors = {}\n",
    "    doc_count = 1\n",
    "    for doc in documents:\n",
    "        doc_vectors[doc_count] = {}\n",
    "        words = doc.split(\" \")\n",
    "        for word in words:\n",
    "            if word not in doc_vectors[doc_count]:\n",
    "                tf_val = tf(word,words)\n",
    "                if word in index:\n",
    "                    idf_val = index[word]['idf']\n",
    "                else:\n",
    "                    index[word] = {}\n",
    "                    idf_val = idf(word,documents)\n",
    "                    index[word]['idf'] = idf_val\n",
    "                score = tf_val*idf_val\n",
    "                index[word][doc_count] = score\n",
    "                doc_vectors[doc_count][word] = score\n",
    "        doc_count += 1 \n",
    "    return (index,doc_vectors)"
   ]
  },
  {
   "cell_type": "code",
   "execution_count": null,
   "metadata": {},
   "outputs": [],
   "source": [
    "index,doc_vectors = build_index(documents)\n",
    "index"
   ]
  },
  {
   "cell_type": "code",
   "execution_count": null,
   "metadata": {},
   "outputs": [],
   "source": [
    "doc_vectors"
   ]
  },
  {
   "cell_type": "code",
   "execution_count": null,
   "metadata": {},
   "outputs": [],
   "source": [
    "def euclidean_norm(vector):\n",
    "    total_sum = 0\n",
    "    for key,val in vector.items():\n",
    "        total_sum += val**2\n",
    "    return math.sqrt(total_sum)\n",
    "    \n",
    "def query_vec(query,index):\n",
    "    terms = query.split(\" \")\n",
    "    query_vec = {}\n",
    "    for term in terms:\n",
    "        tf_val = tf(term,terms)\n",
    "        idf_val = index[term]['idf']\n",
    "        query_vec[term] = tf_val*idf_val\n",
    "    return(query_vec)\n",
    "\n",
    "def calc_sim(query,doc,query_vec,doc_vec,index):\n",
    "    numerator = 0\n",
    "    terms = query.split(\" \")\n",
    "    for term in terms:\n",
    "        if doc in index[term]:\n",
    "            doc_score = index[term][doc]\n",
    "        else:\n",
    "            doc_score = 0\n",
    "        query_score = query_vec[term]\n",
    "        numerator += doc_score*query_score\n",
    "    denominator = euclidean_norm(query_vec)*euclidean_norm(doc_vec)\n",
    "    return(numerator/denominator)\n",
    "    \n",
    "def query(query,index,doc_vectors):\n",
    "    queryvec = query_vec(query,index)\n",
    "    scores = []\n",
    "    for key,val in doc_vectors.items():\n",
    "        sim = calc_sim(query,key,queryvec,val,index)\n",
    "        scores.append((key,sim))\n",
    "    return(scores)"
   ]
  },
  {
   "cell_type": "code",
   "execution_count": null,
   "metadata": {},
   "outputs": [],
   "source": []
  },
  {
   "cell_type": "code",
   "execution_count": null,
   "metadata": {},
   "outputs": [],
   "source": [
    "db."
   ]
  },
  {
   "cell_type": "code",
   "execution_count": null,
   "metadata": {},
   "outputs": [],
   "source": [
    "query(\"shoulders comeback\",index,doc_vectors)"
   ]
  },
  {
   "cell_type": "code",
   "execution_count": null,
   "metadata": {},
   "outputs": [],
   "source": [
    "query = \"Yachvili slotted over four penalties\"\n",
    "query_words = query.split(\" \")"
   ]
  },
  {
   "cell_type": "code",
   "execution_count": null,
   "metadata": {},
   "outputs": [],
   "source": [
    "type(query_words[0])"
   ]
  },
  {
   "cell_type": "code",
   "execution_count": null,
   "metadata": {},
   "outputs": [],
   "source": []
  },
  {
   "cell_type": "code",
   "execution_count": null,
   "metadata": {},
   "outputs": [],
   "source": []
  },
  {
   "cell_type": "code",
   "execution_count": null,
   "metadata": {},
   "outputs": [],
   "source": []
  },
  {
   "cell_type": "code",
   "execution_count": null,
   "metadata": {},
   "outputs": [],
   "source": []
  },
  {
   "cell_type": "code",
   "execution_count": null,
   "metadata": {},
   "outputs": [],
   "source": []
  },
  {
   "cell_type": "code",
   "execution_count": null,
   "metadata": {},
   "outputs": [],
   "source": []
  },
  {
   "cell_type": "code",
   "execution_count": null,
   "metadata": {},
   "outputs": [],
   "source": []
  }
 ],
 "metadata": {
  "kernelspec": {
   "display_name": "Python [conda root]",
   "language": "python",
   "name": "conda-root-py"
  },
  "language_info": {
   "codemirror_mode": {
    "name": "ipython",
    "version": 3
   },
   "file_extension": ".py",
   "mimetype": "text/x-python",
   "name": "python",
   "nbconvert_exporter": "python",
   "pygments_lexer": "ipython3",
   "version": "3.6.5"
  }
 },
 "nbformat": 4,
 "nbformat_minor": 2
}
