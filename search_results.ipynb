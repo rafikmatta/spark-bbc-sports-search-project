{
 "cells": [
  {
   "cell_type": "code",
   "execution_count": 1,
   "metadata": {},
   "outputs": [],
   "source": [
    "import json, pprint, requests, textwrap\n",
    "import datetime\n",
    "host = 'http://localhost:8999'\n",
    "data = {'kind': 'pyspark',\n",
    "        'driverCores': 1,\n",
    "        'executorCores':8}\n",
    "headers = {'Content-Type': 'application/json'}"
   ]
  },
  {
   "cell_type": "code",
   "execution_count": 2,
   "metadata": {},
   "outputs": [
    {
     "data": {
      "text/plain": [
       "{'id': 45,\n",
       " 'appId': None,\n",
       " 'owner': None,\n",
       " 'proxyUser': None,\n",
       " 'state': 'starting',\n",
       " 'kind': 'pyspark',\n",
       " 'appInfo': {'driverLogUrl': None, 'sparkUiUrl': None},\n",
       " 'log': ['stdout: ', '\\nstderr: ', '\\nYARN Diagnostics: ']}"
      ]
     },
     "execution_count": 2,
     "metadata": {},
     "output_type": "execute_result"
    }
   ],
   "source": [
    "r = requests.post(host+'/sessions', data=json.dumps(data), headers=headers)\n",
    "r.json()"
   ]
  },
  {
   "cell_type": "code",
   "execution_count": 3,
   "metadata": {},
   "outputs": [
    {
     "data": {
      "text/plain": [
       "'idle'"
      ]
     },
     "execution_count": 3,
     "metadata": {},
     "output_type": "execute_result"
    }
   ],
   "source": [
    "location = r.headers['location']\n",
    "session_url = host + location\n",
    "r = requests.get(session_url, headers=headers)\n",
    "current_state = r.json()['state']\n",
    "while current_state != 'idle':\n",
    "    r = requests.get(session_url, headers=headers)\n",
    "    current_state = r.json()['state']\n",
    "r.json()['state']"
   ]
  },
  {
   "cell_type": "markdown",
   "metadata": {},
   "source": [
    "## Build Index"
   ]
  },
  {
   "cell_type": "code",
   "execution_count": 4,
   "metadata": {},
   "outputs": [],
   "source": [
    "def build_index(index_folder):\n",
    "    statements_url = host + location + '/statements'\n",
    "    data = {\n",
    "      'code': textwrap.dedent(\"\"\"\n",
    "    from pyspark.sql.functions import *\n",
    "    import re,string\n",
    "    import sys\n",
    "    from pyspark.sql.types import *\n",
    "    from pyspark.sql.functions import *\n",
    "    spark.conf.set(\"spark.sql.shuffle.partitions\", 8)\n",
    "    text_files = sc.wholeTextFiles(\"/user/root/bbcsport/\"\"\" + index_folder +\"\"\"\")\n",
    "    file_count = text_files.count()\n",
    "    hdfs_precursor = \"hdfs://sandbox-hdp.hortonworks.com:8020/user/root/bbcsport/\"\n",
    "    files = text_files.map(lambda file: (file[0].replace(hdfs_precursor, \"\"), file[1]))\n",
    "    lines = files.map(lambda lines: (lines[0], re.sub('\\\\n+', '\\\\n', lines[1]).replace('\\\\n', ' ')))\n",
    "    lines = lines.map(lambda line: (line[0], re.sub('[^\\w\\s-]', '', line[1].lower().strip())))\n",
    "    words = lines.flatMapValues(lambda word: word.split(\" \"))\n",
    "    words_df = words.toDF([\"file\", \"word\"])\n",
    "    inverted_index = words_df.groupBy(\"word\").agg(collect_list(\"file\").alias(\"files\"))\n",
    "    file_words_count = words_df.groupBy(\"file\").agg(count(\"word\").alias(\"word_count\"))\n",
    "    words_count = words_df.groupBy(\"word\", \"file\").count()\n",
    "    tf = words_count.join(file_words_count, file_words_count.file == words_count.file, 'left').withColumn(\"tf\", col(\"count\") / col(\"word_count\")).select(words_count.word, words_count.file, \"tf\")\n",
    "    doc_freq = words_df.groupBy(\"word\").agg(countDistinct(\"file\").alias(\"df\"))\n",
    "    idf = doc_freq.groupBy(\"word\", \"df\").agg(log(file_count / column(\"df\")).alias(\"idf\"))\n",
    "    tfidf = tf.join(idf, tf.word == idf.word, 'left').withColumn(\"tf_idf\", col(\"tf\") * col(\"idf\")).select(tf.word,tf.file,idf.idf,\"tf_idf\")\n",
    "    tfidf.write.orc('\"\"\" + index_folder +\"\"\"' + '.orc')\n",
    "        \"\"\")\n",
    "    }\n",
    "    r = requests.post(statements_url, data=json.dumps(data), headers=headers)\n",
    "    return(r)"
   ]
  },
  {
   "cell_type": "code",
   "execution_count": 5,
   "metadata": {},
   "outputs": [
    {
     "name": "stdout",
     "output_type": "stream",
     "text": [
      "Time taken: 0:00:19.468279\n"
     ]
    }
   ],
   "source": [
    "index_folder = \"rugby\"\n",
    "r = build_index(index_folder)\n",
    "statement_url = host + r.headers['location']\n",
    "r = requests.get(statement_url, headers=headers)\n",
    "current_state = r.json()['state']\n",
    "a = datetime.datetime.now()\n",
    "while current_state != 'available':\n",
    "    r = requests.get(statement_url, headers=headers)\n",
    "    current_state = r.json()['state']\n",
    "b = datetime.datetime.now()\n",
    "r.json()['output']['data']['text/plain']\n",
    "print(\"Time taken: \" + (b-a).strftime('%Y-%m-%d %H:%M:%S.%f')[:-3])"
   ]
  },
  {
   "cell_type": "code",
   "execution_count": 6,
   "metadata": {},
   "outputs": [
    {
     "name": "stdout",
     "output_type": "stream",
     "text": [
      "Time taken: 0:00:13.328639\n"
     ]
    }
   ],
   "source": [
    "index_folder = \"football\"\n",
    "r = build_index(index_folder)\n",
    "statement_url = host + r.headers['location']\n",
    "r = requests.get(statement_url, headers=headers)\n",
    "current_state = r.json()['state']\n",
    "a = datetime.datetime.now()\n",
    "while current_state != 'available':\n",
    "    r = requests.get(statement_url, headers=headers)\n",
    "    current_state = r.json()['state']\n",
    "b = datetime.datetime.now()\n",
    "r.json()['output']['data']['text/plain']\n",
    "print(\"Time taken: \" + (b-a).strftime('%Y-%m-%d %H:%M:%S.%f')[:-3])"
   ]
  },
  {
   "cell_type": "code",
   "execution_count": 7,
   "metadata": {},
   "outputs": [
    {
     "name": "stdout",
     "output_type": "stream",
     "text": [
      "Time taken: 0:00:06.131539\n"
     ]
    }
   ],
   "source": [
    "index_folder = \"cricket\"\n",
    "r = build_index(index_folder)\n",
    "statement_url = host + r.headers['location']\n",
    "r = requests.get(statement_url, headers=headers)\n",
    "current_state = r.json()['state']\n",
    "a = datetime.datetime.now()\n",
    "while current_state != 'available':\n",
    "    r = requests.get(statement_url, headers=headers)\n",
    "    current_state = r.json()['state']\n",
    "b = datetime.datetime.now()\n",
    "r.json()['output']['data']['text/plain']\n",
    "print(\"Time taken: \" + str(b-a))"
   ]
  },
  {
   "cell_type": "code",
   "execution_count": 8,
   "metadata": {},
   "outputs": [
    {
     "name": "stdout",
     "output_type": "stream",
     "text": [
      "Time taken: 0:00:05.158427\n"
     ]
    }
   ],
   "source": [
    "index_folder = \"athletics\"\n",
    "r = build_index(index_folder)\n",
    "statement_url = host + r.headers['location']\n",
    "r = requests.get(statement_url, headers=headers)\n",
    "current_state = r.json()['state']\n",
    "a = datetime.datetime.now()\n",
    "while current_state != 'available':\n",
    "    r = requests.get(statement_url, headers=headers)\n",
    "    current_state = r.json()['state']\n",
    "b = datetime.datetime.now()\n",
    "r.json()['output']['data']['text/plain']\n",
    "print(\"Time taken: \" + str(b-a))"
   ]
  },
  {
   "cell_type": "code",
   "execution_count": 9,
   "metadata": {},
   "outputs": [
    {
     "name": "stdout",
     "output_type": "stream",
     "text": [
      "Time taken: 0:00:08.511450\n"
     ]
    }
   ],
   "source": [
    "index_folder = \"tennis\"\n",
    "r = build_index(index_folder)\n",
    "statement_url = host + r.headers['location']\n",
    "r = requests.get(statement_url, headers=headers)\n",
    "current_state = r.json()['state']\n",
    "a = datetime.datetime.now()\n",
    "while current_state != 'available':\n",
    "    r = requests.get(statement_url, headers=headers)\n",
    "    current_state = r.json()['state']\n",
    "b = datetime.datetime.now()\n",
    "r.json()['output']['data']['text/plain']\n",
    "print(\"Time taken: \" + str(b-a))"
   ]
  },
  {
   "cell_type": "markdown",
   "metadata": {},
   "source": [
    "## Load Index "
   ]
  },
  {
   "cell_type": "code",
   "execution_count": 10,
   "metadata": {},
   "outputs": [],
   "source": [
    "def load_index(index_to_use):\n",
    "    statements_url = host + location + '/statements'\n",
    "    data = {\n",
    "      'code': textwrap.dedent(\"\"\"\n",
    "        import sys\n",
    "        from pyspark.sql.types import *\n",
    "        from pyspark.sql.functions import *\n",
    "        from pyspark import SparkContext, SparkConf\n",
    "        from pyspark.sql import SparkSession\n",
    "        spark.conf.set(\"spark.sql.shuffle.partitions\", 8)\n",
    "        tfidf = spark.read.orc('\"\"\" + index_to_use + \"\"\".orc')\n",
    "        tfidf.persist()\n",
    "        \"\"\")\n",
    "    }\n",
    "    r = requests.post(statements_url, data=json.dumps(data), headers=headers)\n",
    "    return(r)"
   ]
  },
  {
   "cell_type": "code",
   "execution_count": 11,
   "metadata": {},
   "outputs": [
    {
     "name": "stdout",
     "output_type": "stream",
     "text": [
      "Time taken: 0:00:00\n"
     ]
    }
   ],
   "source": [
    "index_to_use = \"rugby\"\n",
    "r = load_index(index_to_use)\n",
    "statement_url = host + r.headers['location']\n",
    "r = requests.get(statement_url, headers=headers)\n",
    "current_state = r.json()['state']\n",
    "a = datetime.datetime.now()\n",
    "while current_state != 'available':\n",
    "    r = requests.get(statement_url, headers=headers)\n",
    "    current_state = r.json()['state']\n",
    "b = datetime.datetime.now()\n",
    "r.json()['output']['data']['text/plain']\n",
    "print(\"Time taken: \" + str(b-a))"
   ]
  },
  {
   "cell_type": "markdown",
   "metadata": {},
   "source": [
    "## Query"
   ]
  },
  {
   "cell_type": "code",
   "execution_count": 12,
   "metadata": {},
   "outputs": [],
   "source": [
    "def query_call(query,N):\n",
    "    statements_url = host + location + '/statements'\n",
    "    data = {\n",
    "      'code': textwrap.dedent(\"\"\"\n",
    "        spark.conf.set(\"spark.sql.shuffle.partitions\", 8)\n",
    "        query_string = \"\"\" + query +\n",
    "        \"\"\" \n",
    "        N = \"\"\" + str(N) +\n",
    "        \"\"\"\n",
    "        query_words = query_string.lower().split(\" \")\n",
    "        total_words = len(query_words)\n",
    "        query_df = spark.createDataFrame(query_words,StringType())\n",
    "        query_df = query_df.groupBy(\"value\").count().select(col(\"value\").alias(\"word\"),col(\"count\").alias(\"tf\"))\n",
    "        query_idf = query_df.join(broadcast(tfidf), tfidf.word == query_df.word,'left').select(tfidf.file,query_df.word,query_df.tf,tfidf.idf,tfidf.tf_idf)\n",
    "        results = query_idf.groupBy(\"file\").agg((sum(\"tf_idf\")*(count(\"word\")/total_words)).alias(\"score\")).orderBy(desc(\"score\"))\n",
    "        results.show(N)\n",
    "        \"\"\")\n",
    "    }\n",
    "    r = requests.post(statements_url, data=json.dumps(data), headers=headers)\n",
    "    return(r)"
   ]
  },
  {
   "cell_type": "markdown",
   "metadata": {},
   "source": [
    "## Initial Call to Trigger Load "
   ]
  },
  {
   "cell_type": "code",
   "execution_count": 13,
   "metadata": {},
   "outputs": [
    {
     "name": "stdout",
     "output_type": "stream",
     "text": [
      "+-------------+--------------------+\n",
      "|         file|               score|\n",
      "+-------------+--------------------+\n",
      "|rugby/001.txt|0.012391428847086721|\n",
      "+-------------+--------------------+\n",
      "only showing top 1 row\n"
     ]
    }
   ],
   "source": [
    "query = \"'over penalties test twice'\"\n",
    "N = 1\n",
    "r = query_call(query,N)\n",
    "statement_url = host + r.headers['location']\n",
    "r = requests.get(statement_url, headers=headers)\n",
    "current_state = r.json()['state']\n",
    "a = datetime.datetime.now()\n",
    "while current_state != 'available':\n",
    "    r = requests.get(statement_url, headers=headers)\n",
    "    current_state = r.json()['state']\n",
    "b = datetime.datetime.now()\n",
    "result = r.json()['output']['data']['text/plain']\n",
    "print(result)"
   ]
  },
  {
   "cell_type": "code",
   "execution_count": 14,
   "metadata": {},
   "outputs": [
    {
     "name": "stdout",
     "output_type": "stream",
     "text": [
      "Time taken: 0:00:02.023340\n"
     ]
    }
   ],
   "source": [
    "print(\"Time taken: \" + str(b-a))"
   ]
  },
  {
   "cell_type": "markdown",
   "metadata": {},
   "source": [
    "## Query 1, N=1"
   ]
  },
  {
   "cell_type": "code",
   "execution_count": 15,
   "metadata": {},
   "outputs": [
    {
     "name": "stdout",
     "output_type": "stream",
     "text": [
      "+-------------+-------------------+\n",
      "|         file|              score|\n",
      "+-------------+-------------------+\n",
      "|rugby/098.txt|0.12769736588535455|\n",
      "+-------------+-------------------+\n",
      "only showing top 1 row\n"
     ]
    }
   ],
   "source": [
    "query = \"'England claim Dubai Sevens glory'\"\n",
    "N = 1\n",
    "r = query_call(query,N)\n",
    "statement_url = host + r.headers['location']\n",
    "r = requests.get(statement_url, headers=headers)\n",
    "current_state = r.json()['state']\n",
    "a = datetime.datetime.now()\n",
    "while current_state != 'available':\n",
    "    r = requests.get(statement_url, headers=headers)\n",
    "    current_state = r.json()['state']\n",
    "b = datetime.datetime.now()\n",
    "result = r.json()['output']['data']['text/plain']\n",
    "print(result)"
   ]
  },
  {
   "cell_type": "code",
   "execution_count": 16,
   "metadata": {},
   "outputs": [
    {
     "name": "stdout",
     "output_type": "stream",
     "text": [
      "Time taken: 0:00:00\n"
     ]
    }
   ],
   "source": [
    "print(\"Time taken: \" + str(b-a))"
   ]
  },
  {
   "cell_type": "markdown",
   "metadata": {},
   "source": [
    "## Query 1, N =3"
   ]
  },
  {
   "cell_type": "code",
   "execution_count": 17,
   "metadata": {},
   "outputs": [
    {
     "name": "stdout",
     "output_type": "stream",
     "text": [
      "+-------------+-------------------+\n",
      "|         file|              score|\n",
      "+-------------+-------------------+\n",
      "|rugby/098.txt|0.12769736588535455|\n",
      "|rugby/127.txt|0.06749421879927163|\n",
      "|rugby/086.txt|0.05140068228743627|\n",
      "+-------------+-------------------+\n",
      "only showing top 3 rows\n"
     ]
    }
   ],
   "source": [
    "query = \"'England claim Dubai Sevens glory'\"\n",
    "N = 3\n",
    "r = query_call(query,N)\n",
    "statement_url = host + r.headers['location']\n",
    "r = requests.get(statement_url, headers=headers)\n",
    "current_state = r.json()['state']\n",
    "a = datetime.datetime.now()\n",
    "while current_state != 'available':\n",
    "    r = requests.get(statement_url, headers=headers)\n",
    "    current_state = r.json()['state']\n",
    "b = datetime.datetime.now()\n",
    "result = r.json()['output']['data']['text/plain']\n",
    "print(result)"
   ]
  },
  {
   "cell_type": "code",
   "execution_count": 18,
   "metadata": {},
   "outputs": [
    {
     "name": "stdout",
     "output_type": "stream",
     "text": [
      "Time taken: 0:00:00\n"
     ]
    }
   ],
   "source": [
    "print(\"Time taken: \" + str(b-a))"
   ]
  },
  {
   "cell_type": "markdown",
   "metadata": {},
   "source": [
    "## Query 1, N = 5"
   ]
  },
  {
   "cell_type": "code",
   "execution_count": 19,
   "metadata": {},
   "outputs": [
    {
     "name": "stdout",
     "output_type": "stream",
     "text": [
      "+-------------+--------------------+\n",
      "|         file|               score|\n",
      "+-------------+--------------------+\n",
      "|rugby/098.txt| 0.12769736588535455|\n",
      "|rugby/127.txt| 0.06749421879927163|\n",
      "|rugby/086.txt| 0.05140068228743627|\n",
      "|rugby/092.txt|0.012255797343391425|\n",
      "|rugby/060.txt|0.007656956682990293|\n",
      "+-------------+--------------------+\n",
      "only showing top 5 rows\n"
     ]
    }
   ],
   "source": [
    "query = \"'England claim Dubai Sevens glory'\"\n",
    "N = 5\n",
    "r = query_call(query,N)\n",
    "statement_url = host + r.headers['location']\n",
    "r = requests.get(statement_url, headers=headers)\n",
    "current_state = r.json()['state']\n",
    "a = datetime.datetime.now()\n",
    "while current_state != 'available':\n",
    "    r = requests.get(statement_url, headers=headers)\n",
    "    current_state = r.json()['state']\n",
    "b = datetime.datetime.now()\n",
    "result = r.json()['output']['data']['text/plain']\n",
    "print(result)"
   ]
  },
  {
   "cell_type": "code",
   "execution_count": 20,
   "metadata": {
    "scrolled": true
   },
   "outputs": [
    {
     "name": "stdout",
     "output_type": "stream",
     "text": [
      "Time taken: 0:00:00\n"
     ]
    }
   ],
   "source": [
    "print(\"Time taken: \" + str(b-a))"
   ]
  },
  {
   "cell_type": "markdown",
   "metadata": {},
   "source": [
    "## Query 2, N = 1"
   ]
  },
  {
   "cell_type": "code",
   "execution_count": 21,
   "metadata": {},
   "outputs": [
    {
     "name": "stdout",
     "output_type": "stream",
     "text": [
      "+-------------+--------------------+\n",
      "|         file|               score|\n",
      "+-------------+--------------------+\n",
      "|rugby/001.txt|0.043268433667157026|\n",
      "+-------------+--------------------+\n",
      "only showing top 1 row\n"
     ]
    }
   ],
   "source": [
    "query = \"'Yachvili slotted over four penalties'\"\n",
    "N = 1\n",
    "r = query_call(query,N)\n",
    "statement_url = host + r.headers['location']\n",
    "r = requests.get(statement_url, headers=headers)\n",
    "current_state = r.json()['state']\n",
    "a = datetime.datetime.now()\n",
    "while current_state != 'available':\n",
    "    r = requests.get(statement_url, headers=headers)\n",
    "    current_state = r.json()['state']\n",
    "b = datetime.datetime.now()\n",
    "result = r.json()['output']['data']['text/plain']\n",
    "print(result)"
   ]
  },
  {
   "cell_type": "code",
   "execution_count": 22,
   "metadata": {},
   "outputs": [
    {
     "name": "stdout",
     "output_type": "stream",
     "text": [
      "Time taken: 0:00:00\n"
     ]
    }
   ],
   "source": [
    "print(\"Time taken: \" + str(b-a))"
   ]
  },
  {
   "cell_type": "markdown",
   "metadata": {},
   "source": [
    "## Query 2, N = 3"
   ]
  },
  {
   "cell_type": "code",
   "execution_count": 23,
   "metadata": {},
   "outputs": [
    {
     "name": "stdout",
     "output_type": "stream",
     "text": [
      "+-------------+--------------------+\n",
      "|         file|               score|\n",
      "+-------------+--------------------+\n",
      "|rugby/001.txt|0.043268433667157026|\n",
      "|rugby/003.txt| 0.02242535737241099|\n",
      "|rugby/134.txt|0.020408392192625024|\n",
      "+-------------+--------------------+\n",
      "only showing top 3 rows\n"
     ]
    }
   ],
   "source": [
    "query = \"'Yachvili slotted over four penalties'\"\n",
    "N = 3\n",
    "r = query_call(query,N)\n",
    "statement_url = host + r.headers['location']\n",
    "r = requests.get(statement_url, headers=headers)\n",
    "current_state = r.json()['state']\n",
    "a = datetime.datetime.now()\n",
    "while current_state != 'available':\n",
    "    r = requests.get(statement_url, headers=headers)\n",
    "    current_state = r.json()['state']\n",
    "b = datetime.datetime.now()\n",
    "result = r.json()['output']['data']['text/plain']\n",
    "print(result)"
   ]
  },
  {
   "cell_type": "code",
   "execution_count": 24,
   "metadata": {},
   "outputs": [
    {
     "name": "stdout",
     "output_type": "stream",
     "text": [
      "Time taken: 0:00:00\n"
     ]
    }
   ],
   "source": [
    "print(\"Time taken: \" + str(b-a))"
   ]
  },
  {
   "cell_type": "markdown",
   "metadata": {},
   "source": [
    "## Query 2, N = 5"
   ]
  },
  {
   "cell_type": "code",
   "execution_count": 25,
   "metadata": {},
   "outputs": [
    {
     "name": "stdout",
     "output_type": "stream",
     "text": [
      "+-------------+--------------------+\n",
      "|         file|               score|\n",
      "+-------------+--------------------+\n",
      "|rugby/001.txt|0.043268433667157026|\n",
      "|rugby/003.txt| 0.02242535737241099|\n",
      "|rugby/134.txt|0.020408392192625024|\n",
      "|rugby/141.txt| 0.01865745104894276|\n",
      "|rugby/097.txt|0.016309428405249717|\n",
      "+-------------+--------------------+\n",
      "only showing top 5 rows\n"
     ]
    }
   ],
   "source": [
    "query = \"'Yachvili slotted over four penalties'\"\n",
    "N = 5\n",
    "r = query_call(query,N)\n",
    "statement_url = host + r.headers['location']\n",
    "r = requests.get(statement_url, headers=headers)\n",
    "current_state = r.json()['state']\n",
    "a = datetime.datetime.now()\n",
    "while current_state != 'available':\n",
    "    r = requests.get(statement_url, headers=headers)\n",
    "    current_state = r.json()['state']\n",
    "b = datetime.datetime.now()\n",
    "result = r.json()['output']['data']['text/plain']\n",
    "print(result)"
   ]
  },
  {
   "cell_type": "code",
   "execution_count": 26,
   "metadata": {},
   "outputs": [
    {
     "name": "stdout",
     "output_type": "stream",
     "text": [
      "Time taken: 0:00:00\n"
     ]
    }
   ],
   "source": [
    "print(\"Time taken: \" + str(b-a))"
   ]
  },
  {
   "cell_type": "markdown",
   "metadata": {},
   "source": [
    "## End Session"
   ]
  },
  {
   "cell_type": "code",
   "execution_count": 27,
   "metadata": {},
   "outputs": [
    {
     "data": {
      "text/plain": [
       "<Response [200]>"
      ]
     },
     "execution_count": 27,
     "metadata": {},
     "output_type": "execute_result"
    }
   ],
   "source": [
    "requests.delete(session_url, headers=headers)"
   ]
  }
 ],
 "metadata": {
  "kernelspec": {
   "display_name": "Python [conda env:Anaconda3]",
   "language": "python",
   "name": "conda-env-Anaconda3-py"
  },
  "language_info": {
   "codemirror_mode": {
    "name": "ipython",
    "version": 3
   },
   "file_extension": ".py",
   "mimetype": "text/x-python",
   "name": "python",
   "nbconvert_exporter": "python",
   "pygments_lexer": "ipython3",
   "version": "3.6.5"
  }
 },
 "nbformat": 4,
 "nbformat_minor": 2
}
